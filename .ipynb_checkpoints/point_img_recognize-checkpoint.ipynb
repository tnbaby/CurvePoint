{
 "cells": [
  {
   "cell_type": "code",
   "execution_count": 1,
   "metadata": {
    "collapsed": true
   },
   "outputs": [],
   "source": [
    "%matplotlib inline"
   ]
  },
  {
   "cell_type": "code",
   "execution_count": 2,
   "metadata": {
    "collapsed": true
   },
   "outputs": [],
   "source": [
    "import numpy as np\n",
    "import matplotlib.pyplot as plt\n",
    "import matplotlib.image as mpimg\n",
    "import os\n",
    "import re\n",
    "import time"
   ]
  },
  {
   "cell_type": "code",
   "execution_count": 3,
   "metadata": {},
   "outputs": [
    {
     "data": {
      "text/plain": [
       "['nq78no2.png',\n",
       " 'pot79n1.png',\n",
       " 'ang81u1.png',\n",
       " 'samples.xlsx',\n",
       " 'Thumbs.db',\n",
       " 'aug81u2.png',\n",
       " 'nq78no3.png',\n",
       " 'samples']"
      ]
     },
     "execution_count": 3,
     "metadata": {},
     "output_type": "execute_result"
    }
   ],
   "source": [
    "os.listdir(\"./samples\")"
   ]
  },
  {
   "cell_type": "code",
   "execution_count": 4,
   "metadata": {
    "collapsed": true
   },
   "outputs": [],
   "source": [
    "img_path = './samples/'"
   ]
  },
  {
   "cell_type": "code",
   "execution_count": 34,
   "metadata": {
    "collapsed": true
   },
   "outputs": [],
   "source": [
    "img_list = os.listdir(img_path)"
   ]
  },
  {
   "cell_type": "code",
   "execution_count": 41,
   "metadata": {},
   "outputs": [
    {
     "data": {
      "text/plain": [
       "[<matplotlib.lines.Line2D at 0x7f6368a88650>]"
      ]
     },
     "execution_count": 41,
     "metadata": {},
     "output_type": "execute_result"
    },
    {
     "data": {
      "image/png": "[encoded data removed]",
      "text/plain": [
       "<matplotlib.figure.Figure at 0x7f6368a88390>"
      ]
     },
     "metadata": {},
     "output_type": "display_data"
    }
   ],
   "source": [
    "img = mpimg.imread(img_path+img_list[0])\n",
    "plt.imshow(img)\n",
    "plt.plot(len(img[0])/2, len(img)/2, 'bo')"
   ]
  },
  {
   "cell_type": "code",
   "execution_count": 38,
   "metadata": {},
   "outputs": [
    {
     "name": "stdout",
     "output_type": "stream",
     "text": [
      "['nq78no2.png', 'pot79n1.png', 'ang81u1.png', 'aug81u2.png', 'nq78no3.png']\n"
     ]
    }
   ],
   "source": [
    "tmp = img_list\n",
    "for i in img_list:\n",
    "    img = re.match(\"(.+)png\", i)\n",
    "    if img == None:\n",
    "        tmp.remove(i)\n",
    "img_list = tmp\n",
    "print img_list"
   ]
  },
  {
   "cell_type": "code",
   "execution_count": 78,
   "metadata": {},
   "outputs": [],
   "source": [
    "def clear_img(x_left, y_left, x_right, y_right):\n",
    "    for x_i in range(x_left, x_right):\n",
    "        for j in range(0, (y_right - y_left)):\n",
    "            y_i = y_right - j\n",
    "            img[y_i][x_i][0] = bytes(100)\n",
    "            img[y_i][x_i][1] = bytes(100)\n",
    "            img[y_i][x_i][2] = bytes(100)\n",
    "            \n",
    "def calculate_neighbors(img, cell_from, cell_to, current_x, current_y):\n",
    "    left_down_side_cnt = 0\n",
    "    right_down_side_cnt = 0\n",
    "    left_up_side_cnt = 0\n",
    "    right_up_side_cnt = 0\n",
    "    for i in range(cell_from, cell_to):\n",
    "        x_i = current_x + i\n",
    "        if x_i > len(img[0]) or x_i < 0:\n",
    "            break\n",
    "        for j in range(cell_from, cell_to):\n",
    "            y_i = current_y - j\n",
    "            if y_i > len(img) or y_i < 0:\n",
    "                break\n",
    "            if int(img[y_i][x_i][0]) + img[y_i][x_i][1] + img[y_i][x_i][2] == 0:\n",
    "                if x_i < current_x and y_i > current_y:\n",
    "                    left_down_side_cnt += 1\n",
    "                elif x_i < current_x and y_i < current_y:\n",
    "                    left_up_side_cnt += 1\n",
    "                elif x_i > current_x and y_i > current_y:\n",
    "                    right_down_side_cnt += 1\n",
    "                else:\n",
    "                    right_up_side_cnt += 1\n",
    "    return left_down_side_cnt, left_up_side_cnt, right_up_side_cnt, right_down_side_cnt\n",
    "\n",
    "def Is_finished(img, cell_length, current_x, current_y):\n",
    "    tmp = cell_length * 5\n",
    "    while cell_length < tmp:\n",
    "        left_down_side_cnt, left_up_side_cnt, right_up_side_cnt, right_down_side_cnt = \\\n",
    "        calculate_neigbors(img, cell_length*2, current_x, current_y)\n",
    "        tmp_list = [left_down_side_cnt, left_up_side_cnt, right_up_side_cnt, right_down_side_cnt]\n",
    "        if np.max(tmp_list) == 0:\n",
    "            cell_length *= 2\n",
    "        else:\n",
    "            return left_down_side_cnt, left_up_side_cnt, right_up_side_cnt, right_down_side_cnt\n",
    "    return None\n",
    "\n",
    "\n",
    "def get_direction_changing_points(img, cell_length):\n",
    "    singular_points_x = []\n",
    "    singular_points_y = []\n",
    "    for x in xrange(len(img[0])):\n",
    "        for y in xrange(len(img)):\n",
    "            if int(img[y][x][0]) + img[y][x][1] + img[y][x][2] != 0:\n",
    "                continue  \n",
    "            left_down_side_cnt, left_up_side_cnt, right_up_side_cnt, right_down_side_cnt =\\\n",
    "                        calculate_neighbors(img, -cell_length, cell_length, x, y)\n",
    "            if x < len(img[0])/2 and left_down_side_cnt == 0 and right_down_side_cnt == 0:\n",
    "                    singular_points_x += [x]\n",
    "                    singular_points_y += [y]\n",
    "#                     print x, y\n",
    "            if x > len(img[0])/2 and right_up_side_cnt == 0 and left_up_side_cnt == 0:\n",
    "                    singular_points_x += [x]\n",
    "                    singular_points_y += [y]\n",
    "#                     print x, y\n",
    "#         print x\n",
    "    return singular_points_x, singular_points_y"
   ]
  },
  {
   "cell_type": "code",
   "execution_count": 79,
   "metadata": {},
   "outputs": [
    {
     "name": "stdout",
     "output_type": "stream",
     "text": [
      "188 1412\n",
      "189 1412\n",
      "190 1412\n",
      "191 1412\n",
      "212 1409\n",
      "213 1409\n",
      "214 1409\n",
      "215 1409\n",
      "216 1409\n",
      "217 1409\n",
      "218 1409\n",
      "219 1409\n",
      "220 1409\n",
      "221 1409\n",
      "222 1409\n",
      "223 1409\n",
      "224 1409\n",
      "225 1409\n",
      "226 1409\n",
      "227 1409\n",
      "228 1409\n",
      "229 1409\n",
      "264 1407\n",
      "265 1407\n",
      "266 1407\n",
      "267 1407\n",
      "268 1407\n",
      "269 1407\n",
      "307 1407\n",
      "308 1407\n",
      "309 1407\n",
      "310 1407\n",
      "311 1407\n",
      "312 1407\n",
      "313 1407\n",
      "314 1407\n",
      "315 1407\n",
      "316 1407\n",
      "317 1407\n",
      "318 1407\n",
      "319 1407\n",
      "320 1407\n",
      "321 1407\n",
      "322 1407\n",
      "323 1407\n",
      "324 1407\n",
      "325 1407\n",
      "326 1407\n",
      "327 1407\n",
      "328 1407\n",
      "329 1407\n",
      "330 1407\n",
      "357 1412\n",
      "358 1412\n",
      "359 1412\n",
      "360 1412\n",
      "361 1412\n",
      "362 1412\n",
      "363 1412\n",
      "364 1412\n",
      "365 1412\n",
      "366 1412\n",
      "367 1412\n",
      "368 1412\n",
      "369 1412\n",
      "370 1412\n",
      "371 1412\n",
      "372 1412\n",
      "475 1448\n",
      "476 1448\n",
      "477 1448\n",
      "478 1448\n",
      "479 1448\n",
      "480 1448\n",
      "481 1448\n",
      "482 1448\n",
      "483 1448\n",
      "484 1448\n",
      "485 1448\n",
      "486 1448\n",
      "487 1448\n",
      "488 1448\n",
      "489 1448\n",
      "490 1448\n",
      "491 1448\n",
      "492 1448\n",
      "493 1448\n",
      "494 1448\n",
      "495 1448\n",
      "496 1448\n",
      "497 1448\n",
      "498 1448\n",
      "499 1448\n",
      "500 1448\n",
      "501 1448\n",
      "502 1448\n",
      "503 1448\n",
      "504 1448\n",
      "505 1448\n",
      "506 1448\n",
      "507 1448\n",
      "508 1448\n",
      "509 1448\n",
      "510 1448\n",
      "511 1448\n",
      "512 1448\n",
      "513 1448\n",
      "514 1448\n",
      "515 1448\n",
      "516 1448\n",
      "517 1448\n",
      "544 1448\n",
      "545 1448\n",
      "546 1448\n",
      "565 1601\n",
      "566 1601\n",
      "567 1601\n"
     ]
    },
    {
     "ename": "KeyboardInterrupt",
     "evalue": "",
     "output_type": "error",
     "traceback": [
      "\u001b[0;31m---------------------------------------------------------------------------\u001b[0m",
      "\u001b[0;31mKeyboardInterrupt\u001b[0m                         Traceback (most recent call last)",
      "\u001b[0;32m<ipython-input-79-d3490d254c0b>\u001b[0m in \u001b[0;36m<module>\u001b[0;34m()\u001b[0m\n\u001b[0;32m----> 1\u001b[0;31m \u001b[0msingular_points_x\u001b[0m\u001b[0;34m,\u001b[0m \u001b[0msingular_points_y\u001b[0m \u001b[0;34m=\u001b[0m \u001b[0mget_direction_changing_points\u001b[0m\u001b[0;34m(\u001b[0m\u001b[0mimg\u001b[0m\u001b[0;34m,\u001b[0m \u001b[0;36m10\u001b[0m\u001b[0;34m)\u001b[0m\u001b[0;34m\u001b[0m\u001b[0m\n\u001b[0m",
      "\u001b[0;32m<ipython-input-78-48a903fbf90e>\u001b[0m in \u001b[0;36mget_direction_changing_points\u001b[0;34m(img, cell_length)\u001b[0m\n\u001b[1;32m     50\u001b[0m             \u001b[0;32mif\u001b[0m \u001b[0mint\u001b[0m\u001b[0;34m(\u001b[0m\u001b[0mimg\u001b[0m\u001b[0;34m[\u001b[0m\u001b[0my\u001b[0m\u001b[0;34m]\u001b[0m\u001b[0;34m[\u001b[0m\u001b[0mx\u001b[0m\u001b[0;34m]\u001b[0m\u001b[0;34m[\u001b[0m\u001b[0;36m0\u001b[0m\u001b[0;34m]\u001b[0m\u001b[0;34m)\u001b[0m \u001b[0;34m+\u001b[0m \u001b[0mimg\u001b[0m\u001b[0;34m[\u001b[0m\u001b[0my\u001b[0m\u001b[0;34m]\u001b[0m\u001b[0;34m[\u001b[0m\u001b[0mx\u001b[0m\u001b[0;34m]\u001b[0m\u001b[0;34m[\u001b[0m\u001b[0;36m1\u001b[0m\u001b[0;34m]\u001b[0m \u001b[0;34m+\u001b[0m \u001b[0mimg\u001b[0m\u001b[0;34m[\u001b[0m\u001b[0my\u001b[0m\u001b[0;34m]\u001b[0m\u001b[0;34m[\u001b[0m\u001b[0mx\u001b[0m\u001b[0;34m]\u001b[0m\u001b[0;34m[\u001b[0m\u001b[0;36m2\u001b[0m\u001b[0;34m]\u001b[0m \u001b[0;34m!=\u001b[0m \u001b[0;36m0\u001b[0m\u001b[0;34m:\u001b[0m\u001b[0;34m\u001b[0m\u001b[0m\n\u001b[1;32m     51\u001b[0m                 \u001b[0;32mcontinue\u001b[0m\u001b[0;34m\u001b[0m\u001b[0m\n\u001b[0;32m---> 52\u001b[0;31m             \u001b[0mleft_down_side_cnt\u001b[0m\u001b[0;34m,\u001b[0m \u001b[0mleft_up_side_cnt\u001b[0m\u001b[0;34m,\u001b[0m \u001b[0mright_up_side_cnt\u001b[0m\u001b[0;34m,\u001b[0m \u001b[0mright_down_side_cnt\u001b[0m \u001b[0;34m=\u001b[0m                        \u001b[0mcalculate_neighbors\u001b[0m\u001b[0;34m(\u001b[0m\u001b[0mimg\u001b[0m\u001b[0;34m,\u001b[0m \u001b[0;34m-\u001b[0m\u001b[0mcell_length\u001b[0m\u001b[0;34m,\u001b[0m \u001b[0mcell_length\u001b[0m\u001b[0;34m,\u001b[0m \u001b[0mx\u001b[0m\u001b[0;34m,\u001b[0m \u001b[0my\u001b[0m\u001b[0;34m)\u001b[0m\u001b[0;34m\u001b[0m\u001b[0m\n\u001b[0m\u001b[1;32m     53\u001b[0m             \u001b[0;32mif\u001b[0m \u001b[0mx\u001b[0m \u001b[0;34m<\u001b[0m \u001b[0mlen\u001b[0m\u001b[0;34m(\u001b[0m\u001b[0mimg\u001b[0m\u001b[0;34m[\u001b[0m\u001b[0;36m0\u001b[0m\u001b[0;34m]\u001b[0m\u001b[0;34m)\u001b[0m\u001b[0;34m/\u001b[0m\u001b[0;36m2\u001b[0m \u001b[0;32mand\u001b[0m \u001b[0mleft_down_side_cnt\u001b[0m \u001b[0;34m==\u001b[0m \u001b[0;36m0\u001b[0m \u001b[0;32mand\u001b[0m \u001b[0mright_down_side_cnt\u001b[0m \u001b[0;34m==\u001b[0m \u001b[0;36m0\u001b[0m\u001b[0;34m:\u001b[0m\u001b[0;34m\u001b[0m\u001b[0m\n\u001b[1;32m     54\u001b[0m                     \u001b[0msingular_points_x\u001b[0m \u001b[0;34m+=\u001b[0m \u001b[0;34m[\u001b[0m\u001b[0mx\u001b[0m\u001b[0;34m]\u001b[0m\u001b[0;34m\u001b[0m\u001b[0m\n",
      "\u001b[0;32m<ipython-input-78-48a903fbf90e>\u001b[0m in \u001b[0;36mcalculate_neighbors\u001b[0;34m(img, cell_from, cell_to, current_x, current_y)\u001b[0m\n\u001b[1;32m     20\u001b[0m             \u001b[0;32mif\u001b[0m \u001b[0my_i\u001b[0m \u001b[0;34m>\u001b[0m \u001b[0mlen\u001b[0m\u001b[0;34m(\u001b[0m\u001b[0mimg\u001b[0m\u001b[0;34m)\u001b[0m \u001b[0;32mor\u001b[0m \u001b[0my_i\u001b[0m \u001b[0;34m<\u001b[0m \u001b[0;36m0\u001b[0m\u001b[0;34m:\u001b[0m\u001b[0;34m\u001b[0m\u001b[0m\n\u001b[1;32m     21\u001b[0m                 \u001b[0;32mbreak\u001b[0m\u001b[0;34m\u001b[0m\u001b[0m\n\u001b[0;32m---> 22\u001b[0;31m             \u001b[0;32mif\u001b[0m \u001b[0mint\u001b[0m\u001b[0;34m(\u001b[0m\u001b[0mimg\u001b[0m\u001b[0;34m[\u001b[0m\u001b[0my_i\u001b[0m\u001b[0;34m]\u001b[0m\u001b[0;34m[\u001b[0m\u001b[0mx_i\u001b[0m\u001b[0;34m]\u001b[0m\u001b[0;34m[\u001b[0m\u001b[0;36m0\u001b[0m\u001b[0;34m]\u001b[0m\u001b[0;34m)\u001b[0m \u001b[0;34m+\u001b[0m \u001b[0mimg\u001b[0m\u001b[0;34m[\u001b[0m\u001b[0my_i\u001b[0m\u001b[0;34m]\u001b[0m\u001b[0;34m[\u001b[0m\u001b[0mx_i\u001b[0m\u001b[0;34m]\u001b[0m\u001b[0;34m[\u001b[0m\u001b[0;36m1\u001b[0m\u001b[0;34m]\u001b[0m \u001b[0;34m+\u001b[0m \u001b[0mimg\u001b[0m\u001b[0;34m[\u001b[0m\u001b[0my_i\u001b[0m\u001b[0;34m]\u001b[0m\u001b[0;34m[\u001b[0m\u001b[0mx_i\u001b[0m\u001b[0;34m]\u001b[0m\u001b[0;34m[\u001b[0m\u001b[0;36m2\u001b[0m\u001b[0;34m]\u001b[0m \u001b[0;34m==\u001b[0m \u001b[0;36m0\u001b[0m\u001b[0;34m:\u001b[0m\u001b[0;34m\u001b[0m\u001b[0m\n\u001b[0m\u001b[1;32m     23\u001b[0m                 \u001b[0;32mif\u001b[0m \u001b[0mx_i\u001b[0m \u001b[0;34m<\u001b[0m \u001b[0mcurrent_x\u001b[0m \u001b[0;32mand\u001b[0m \u001b[0my_i\u001b[0m \u001b[0;34m>\u001b[0m \u001b[0mcurrent_y\u001b[0m\u001b[0;34m:\u001b[0m\u001b[0;34m\u001b[0m\u001b[0m\n\u001b[1;32m     24\u001b[0m                     \u001b[0mleft_down_side_cnt\u001b[0m \u001b[0;34m+=\u001b[0m \u001b[0;36m1\u001b[0m\u001b[0;34m\u001b[0m\u001b[0m\n",
      "\u001b[0;31mKeyboardInterrupt\u001b[0m: "
     ]
    }
   ],
   "source": [
    "singular_points_x, singular_points_y = get_direction_changing_points(img, 10)"
   ]
  },
  {
   "cell_type": "code",
   "execution_count": null,
   "metadata": {},
   "outputs": [],
   "source": [
    "plt.imshow(img)\n",
    "plt.plot(singular_points_x, singular_points_y, 'r+')"
   ]
  },
  {
   "cell_type": "markdown",
   "metadata": {},
   "source": [
    "# collect the points from the start points step by step"
   ]
  },
  {
   "cell_type": "code",
   "execution_count": 27,
   "metadata": {},
   "outputs": [],
   "source": [
    "img = mpimg.imread(img_path+img_list[0])\n",
    "current_x = len(img[0])/2\n",
    "current_y = len(img)/2\n",
    "\n",
    "cnt = 10000\n",
    "cell_length = 5 # focus on 40*40 pixel subpicture\n",
    "x_collection = [current_x]\n",
    "y_collection = [current_y]\n",
    "next_point = True\n",
    "tmp = img\n",
    "direction = 1\n",
    "while next_point:\n",
    "    cnt -= 1\n",
    "    if cnt < 0 :\n",
    "        break\n",
    "    left_down_side_cnt, left_up_side_cnt, right_up_side_cnt, right_down_side_cnt = \\\n",
    "        calculate_neigbors(img, cell_length, current_x, current_y)\n",
    "\n",
    "    tmp_list = [left_down_side_cnt, left_up_side_cnt, right_up_side_cnt, right_down_side_cnt]\n",
    "#     print tmp_list\n",
    "    if np.max(tmp_list) == 0:\n",
    "        if Is_finished(img, cell_length, current_x, current_y) == None:\n",
    "            break\n",
    "        else:\n",
    "            left_down_side_cnt, left_up_side_cnt, right_up_side_cnt, right_down_side_cnt = Is_finished(img, cell_length, current_x, current_y)\n",
    "            tmp_list = [left_down_side_cnt, left_up_side_cnt, right_up_side_cnt, right_down_side_cnt]\n",
    "    if direction > 0 and right_down_side_cnt > right_up_side_cnt:\n",
    "        tmp_list = [right_down_side_cnt]\n",
    "        direction = -1\n",
    "    if direction < 0 and left_up_side_cnt > left_down_side_cnt:\n",
    "        tmp_list = [left_up_side_cnt]\n",
    "        direction = 1\n",
    "    if left_down_side_cnt == np.max(tmp_list):\n",
    "        clear_img(current_x - cell_length, current_y, current_x, current_y + cell_length)\n",
    "        current_x = current_x - cell_length\n",
    "        current_y = current_y + cell_length\n",
    "        direction = -1\n",
    "    elif right_down_side_cnt == np.max(tmp_list):\n",
    "        clear_img(current_x, current_y, current_x + cell_length, current_y + cell_length)\n",
    "        current_x = current_x + cell_length\n",
    "        current_y = current_y + cell_length\n",
    "    elif left_up_side_cnt == np.max(tmp_list):\n",
    "        clear_img(current_x - cell_length, current_y - cell_length, current_x, current_y)\n",
    "        current_x = current_x - cell_length\n",
    "        current_y = current_y - cell_length\n",
    "    else:\n",
    "        clear_img(current_x, current_y - cell_length, current_x + cell_length, current_y)\n",
    "        current_x = current_x + cell_length\n",
    "        current_y = current_y - cell_length\n",
    "        direction = 1\n",
    "    x_collection += [current_x]\n",
    "    y_collection += [current_y]\n",
    "#     print len(x_collection)"
   ]
  },
  {
   "cell_type": "code",
   "execution_count": 30,
   "metadata": {},
   "outputs": [
    {
     "data": {
      "text/plain": [
       "<matplotlib.image.AxesImage at 0x7f6368e3e190>"
      ]
     },
     "execution_count": 30,
     "metadata": {},
     "output_type": "execute_result"
    },
    {
     "data": {
      "image/png": "[encoded data removed]",
      "text/plain": [
       "<matplotlib.figure.Figure at 0x7f6368f3f110>"
      ]
     },
     "metadata": {},
     "output_type": "display_data"
    }
   ],
   "source": [
    "# plt.plot(x, y, 'k,')\n",
    "# plt.plot(x0, y0, 'go')\n",
    "plt.imshow(img)\n",
    "# plt.plot(x_collection, y_collection, 'r+')"
   ]
  },
  {
   "cell_type": "code",
   "execution_count": 14,
   "metadata": {},
   "outputs": [
    {
     "data": {
      "text/plain": [
       "<matplotlib.image.AxesImage at 0x7fab5b1065d0>"
      ]
     },
     "execution_count": 14,
     "metadata": {},
     "output_type": "execute_result"
    },
    {
     "data": {
      "image/png": "[encoded data removed]",
      "text/plain": [
       "<matplotlib.figure.Figure at 0x7fab5b1f1890>"
      ]
     },
     "metadata": {},
     "output_type": "display_data"
    }
   ],
   "source": [
    "plt.imshow(tmp)"
   ]
  }
 ],
 "metadata": {
  "kernelspec": {
   "display_name": "Python 2",
   "language": "python",
   "name": "python2"
  },
  "language_info": {
   "codemirror_mode": {
    "name": "ipython",
    "version": 2
   },
   "file_extension": ".py",
   "mimetype": "text/x-python",
   "name": "python",
   "nbconvert_exporter": "python",
   "pygments_lexer": "ipython2",
   "version": "2.7.13"
  }
 },
 "nbformat": 4,
 "nbformat_minor": 2
}
